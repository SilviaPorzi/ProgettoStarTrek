{
 "cells": [
  {
   "cell_type": "code",
   "execution_count": 1,
   "id": "82314fbf",
   "metadata": {},
   "outputs": [],
   "source": [
    "import pyodbc"
   ]
  },
  {
   "cell_type": "markdown",
   "id": "b9034140",
   "metadata": {},
   "source": [
    "**Connessione al database con la creazione di due cursori:**\n",
    "```\n",
    "- uno per lettura (Eseguire le SELECT) \n",
    "\n",
    "- uno per scrittura (Eseguire INSERT, DELETE, ecc...) \n",
    "```"
   ]
  },
  {
   "cell_type": "code",
   "execution_count": 2,
   "id": "412297f9",
   "metadata": {},
   "outputs": [],
   "source": [
    "connection_params = (\"Driver={SQL Server Native Client 11.0};\"\n",
    "            \"Server=localhost;\"\n",
    "            \"Database=StarTrek_Lannister;\"\n",
    "            \"Trusted_Connection=yes;\")\n",
    "read_connection = pyodbc.connect(connection_params)\n",
    "read_cursor = read_connection.cursor()\n",
    "write_connection = pyodbc.connect(connection_params)\n",
    "write_cursor = write_connection.cursor()"
   ]
  },
  {
   "cell_type": "markdown",
   "id": "b3f96627",
   "metadata": {},
   "source": [
    "**Eliminazione dei record null dalle tabelle** ***raw_movie*** **,** ***raw_series*** **e** ***[title.akas]*** "
   ]
  },
  {
   "cell_type": "code",
   "execution_count": 3,
   "id": "af1e8f29",
   "metadata": {},
   "outputs": [],
   "source": [
    "write_cursor.execute(\"delete from raw_movie where title is null\")\n",
    "write_cursor.execute(\"delete from raw_series where title is null\")\n",
    "write_cursor.execute(\"delete from [title.akas] where title is null\")\n",
    "write_connection.commit() # memorizzazione delle eliminazioni effettuate (questa istruzione andrà eseguita dopo ogni modifica effettuata al database)"
   ]
  },
  {
   "cell_type": "markdown",
   "id": "fd72850f",
   "metadata": {},
   "source": [
    "__Modifica dell'involontario incremento automatico avvenuto per la colonna__ ***DS91***"
   ]
  },
  {
   "cell_type": "code",
   "execution_count": 4,
   "id": "6499e9e1",
   "metadata": {},
   "outputs": [],
   "source": [
    "write_cursor.execute(\"UPDATE raw_series SET series = 'DS9' where series LIKE 'DS%' \")\n",
    "write_connection.commit()"
   ]
  },
  {
   "cell_type": "markdown",
   "id": "480677d3",
   "metadata": {},
   "source": [
    "**Pulizia di tutti i record delle tabelle in cui si andranno a fare inserimenti**"
   ]
  },
  {
   "cell_type": "code",
   "execution_count": 5,
   "id": "bc49cd38",
   "metadata": {},
   "outputs": [],
   "source": [
    "write_cursor.execute(\"DELETE FROM PersonTheme\")\n",
    "write_cursor.execute(\"DELETE FROM ProductGenre\")\n",
    "write_cursor.execute(\"DELETE FROM Theme\")\n",
    "write_cursor.execute(\"DELETE FROM Person\")\n",
    "write_cursor.execute(\"DELETE FROM Movie\")\n",
    "write_cursor.execute(\"DELETE FROM Episode\")\n",
    "write_cursor.execute(\"DELETE FROM Product\")\n",
    "write_cursor.execute(\"DELETE FROM Rating\")\n",
    "write_cursor.execute(\"DELETE FROM Series\")\n",
    "write_connection.commit()"
   ]
  },
  {
   "cell_type": "markdown",
   "id": "ec10adf5",
   "metadata": {},
   "source": [
    "**Modifica della tabella** ***Movie*** **aggiungendo le colonne** ***Foreign_Gross*** **e** ***Worldwide_Gross***"
   ]
  },
  {
   "cell_type": "code",
   "execution_count": 6,
   "id": "e67f9d42",
   "metadata": {},
   "outputs": [],
   "source": [
    "write_cursor.execute(\"ALTER TABLE Movie ADD Foreign_gross FLOAT\")\n",
    "write_cursor.execute(\"ALTER TABLE Movie ADD Worldwide_gross FLOAT\")\n",
    "write_connection.commit()"
   ]
  },
  {
   "cell_type": "markdown",
   "id": "46f66211",
   "metadata": {},
   "source": [
    "visualizzo raw_movie"
   ]
  },
  {
   "cell_type": "code",
   "execution_count": 7,
   "id": "05046064",
   "metadata": {},
   "outputs": [
    {
     "name": "stdout",
     "output_type": "stream",
     "text": [
      "('Star Trek: The Motion Picture', '1', '1', '7410.2 – 7414.1', '1979-12-07', '42%', '$82,258,456', '$56,741,544', '$139,000,000', '$35,000,000', '397%', 'TOS', None, None, None, None)\n",
      "('Star Trek II: The Wrath of Khan', '2', '2', '8130.3 – 8141.6', '1982-06-04', '87%', '$78,912,963', '$18,087,037', '$97,000,000', '$11,000,000', '882%', 'TOS', None, None, None, None)\n",
      "('Star Trek III: The Search for Spock', '3', '3', '8210.3', '1984-06-01', '80%', '$76,471,046', '$10,528,954', '$87,000,000', '$17,000,000', '512%', 'TOS', None, None, None, None)\n",
      "('Star Trek IV: The Voyage Home', '4', '4', '8390.0', '1986-11-26', '85%', '$109,713,132', '$23,286,868', '$133,000,000', '$25,000,000', '532%', 'TOS', None, None, None, None)\n",
      "('Star Trek V: The Final Frontier', '5', '5', '8454.1', '1989-06-09', '22%', '$52,210,049', '$17,999,951', '$70,210,000', '$27,800,000', '253%', 'TOS', None, None, None, None)\n",
      "('Star Trek VI: The Undiscovered Country', '6', '6', '9521.6 – 9529.1.', '1991-12-06', '81%', '$74,888,996', '$22,000,000', '$96,888,996', '$30,000,000', '323%', 'TOS', None, None, None, None)\n",
      "('Star Trek Generations', '7', '1', '48632.4 – 48650.1', '1994-11-18', '47%', '75671125', '42400000', '118071125', '35000000', '337%', 'TNG', None, None, None, None)\n",
      "('Star Trek: First Contact', '8', '2', '50893.5', '1996-11-22', '93%', '92027888', '54000000', '146027888', '45000000', '324%', 'TNG', None, None, None, None)\n",
      "('Star Trek: Insurrection', '9', '3', '52200 (approx)', '1998-12-11', '54%', '70187658', '42400000', '112587658', '58000000', '194%', 'TNG', None, None, None, None)\n",
      "('Star Trek Nemesis', '10', '4', '56844.9', '2002-12-13', '37%', '43254409', '24058417', '67312826', '60000000', '112%', 'TNG', None, None, None, None)\n",
      "('Star Trek', '11', '1', '2233.04 – 2258.42', '2009-05-08', '94%', '257730019', '127950427', '385680446', '150000000', '257%', 'Kelvin TL', None, None, None, None)\n",
      "('Star Trek Into Darkness', '12', '2', '2259.55 – 2260.133', '2013-05-16', '84%', '228778661', '238602923', '467381584', '190000000', '246%', 'Kelvin TL', None, None, None, None)\n",
      "('Star Trek Beyond', '13', '3', '2263.02 – 2263.04', '2016-07-22', '86%', '158848340', '184623476', '343471816', '185000000', '185%', 'Kelvin TL', None, None, None, None)\n"
     ]
    }
   ],
   "source": [
    "vedi = read_cursor.execute(\"SELECT * FROM raw_movie\")\n",
    "for a in vedi:\n",
    "    print(a)"
   ]
  },
  {
   "cell_type": "markdown",
   "id": "6b4ae9f8",
   "metadata": {},
   "source": [
    "**Creazione di un dizionario che mantiene in memoria tutti i** ***Series_ID*** **(corrispondenti all'ID degli universi di StarTrek)** **della tabella** ***Series*** **e, nello stesso ciclo, inserimento dei titoli dei film e degli episodi contenuti rispettivamente nelle tabelle** ***raw_movie*** **e** ***raw_series***"
   ]
  },
  {
   "cell_type": "code",
   "execution_count": 8,
   "id": "0bbc33fc",
   "metadata": {},
   "outputs": [],
   "source": [
    "series = {}\n",
    "\n",
    "read_cursor.execute(\"SELECT DISTINCT series FROM raw_movie WHERE series IS NOT NULL\") \n",
    "for i, row in enumerate(read_cursor):\n",
    "    series[row[0]] = i\n",
    "    write_cursor.execute(f\"INSERT INTO Series (Series_Id, Title) VALUES ({i},'{row[0]}')\") \n",
    "\n",
    "n_series = len(series.keys())\n",
    "write_connection.commit() \n",
    "\n",
    "read_cursor.execute(\"SELECT DISTINCT series FROM raw_series WHERE series IS NOT Null\") \n",
    "for i, row in enumerate(read_cursor):\n",
    "    write_cursor.execute(f\"SELECT COUNT(*) FROM Series WHERE Title = '{row[0]}'\") \n",
    "    n_occurrences = write_cursor.fetchall()\n",
    "    if n_occurrences[0][0] == 0:\n",
    "        series[row[0]] = n_series+i\n",
    "        write_cursor.execute(f\"INSERT INTO Series (Series_Id, Title) VALUES ({n_series+i},'{row[0]}')\") \n",
    "        \n",
    "write_connection.commit() "
   ]
  },
  {
   "cell_type": "markdown",
   "id": "ee201b79",
   "metadata": {},
   "source": [
    "**Modifica della tabella** ***Person*** **andando a cambiare il tipo della colonna in un VARCHAR(50)**"
   ]
  },
  {
   "cell_type": "code",
   "execution_count": 9,
   "id": "b2abb9d1",
   "metadata": {},
   "outputs": [],
   "source": [
    "write_cursor.execute(\"ALTER TABLE Person DROP COLUMN First_name\")\n",
    "write_cursor.execute(\"ALTER TABLE Person ADD  First_name VARCHAR(50)\")\n",
    "write_connection.commit() "
   ]
  },
  {
   "cell_type": "markdown",
   "id": "0293e026",
   "metadata": {},
   "source": [
    "**Eliminazione della riga dei totali delle colonne nella tabella raw_movie**"
   ]
  },
  {
   "cell_type": "code",
   "execution_count": 10,
   "id": "93a968f0",
   "metadata": {},
   "outputs": [],
   "source": [
    "write_cursor.execute(\"delete from raw_movie where Title like '%TOS Totals%'\")\n",
    "write_cursor.execute(\"delete from raw_movie where Title like '%TNG Totals%'\")\n",
    "write_cursor.execute(\"delete from raw_movie where Title like '%AR Totals%'\")\n",
    "write_connection.commit()"
   ]
  },
  {
   "cell_type": "markdown",
   "id": "df817907",
   "metadata": {},
   "source": [
    "**Inserimento dei valori provenienti da raw_movie nelle seguenti tabelle:**\n",
    "```\n",
    "- Rating\n",
    "- Product\n",
    "- Movie\n",
    "```"
   ]
  },
  {
   "cell_type": "code",
   "execution_count": 11,
   "id": "4bb43895",
   "metadata": {},
   "outputs": [],
   "source": [
    "read_cursor.execute(\"SELECT * FROM raw_movie WHERE title IS NOT NULL\")\n",
    "for i, row in enumerate(read_cursor):\n",
    "    res = float(row[5].replace('%', ''))\n",
    "    write_cursor.execute(f\"INSERT INTO Rating (Rating_Id, Value, Type) VALUES ({i},{res}, 'percentage')\")\n",
    "    write_cursor.execute(f\"INSERT INTO Product (Product_Id, Rating_Id, Series_id, Title, Realease_date) VALUES ({i},{i},'{series[row[11]]}','{row[0]}', '{row[4]}')\")\n",
    "    converted_dgross = float(row[6].replace('$', '').replace(',',''))\n",
    "    converted_fgross = float(row[7].replace('$', '').replace(',',''))\n",
    "    converted_wgross = float(row[8].replace('$', '').replace(',',''))\n",
    "    converted_budget = float(row[9].replace('$', '').replace(',',''))\n",
    "    converted_pgross = float(row[10].replace('%', '').replace(',',''))\n",
    "        \n",
    "    write_cursor.execute(f\"INSERT INTO Movie (Movie_id, Product_id, Domestic_gross, Foreign_gross, Worldwide_gross, Budget, Profitability_gross, Number, Tos) VALUES('{i}','{i}',{converted_dgross},{converted_fgross},{converted_wgross},{converted_budget},{converted_pgross},{row[1]},{row[2]})\")\n",
    "write_connection.commit()"
   ]
  },
  {
   "cell_type": "markdown",
   "id": "14b5c363",
   "metadata": {},
   "source": [
    "**Modifica della struttura della tabella** ***Product*** **andando a cambiare il tipo della colonna** ***Rating_ID*** **in un INT che può essere anche NULL**"
   ]
  },
  {
   "cell_type": "code",
   "execution_count": 12,
   "id": "bafd9b8d",
   "metadata": {},
   "outputs": [],
   "source": [
    "write_cursor.execute(\"ALTER TABLE Product ALTER COLUMN Rating_Id INT NULL\")\n",
    "write_connection.commit()"
   ]
  },
  {
   "cell_type": "markdown",
   "id": "114f3312",
   "metadata": {},
   "source": [
    "**Inserimento dei valori provenienti da** ***raw_series*** **nelle seguenti tabelle:**\n",
    "```\n",
    "- Product\n",
    "- Episode\n",
    "```"
   ]
  },
  {
   "cell_type": "code",
   "execution_count": 13,
   "id": "1a189f9e",
   "metadata": {},
   "outputs": [],
   "source": [
    "read_cursor.execute(\"SELECT COUNT(Product_Id) FROM Product\")\n",
    "n_product=read_cursor.fetchall()[0][0]\n",
    "read_cursor.execute(\"SELECT * FROM raw_series WHERE title IS NOT NULL\")\n",
    "for i, row in enumerate(read_cursor):\n",
    "    somma_prodid = n_product\n",
    "    if not(i is None):\n",
    "        somma_prodid += i\n",
    "    converted_title = row[0].replace(\"'\", '')\n",
    "    if series.get(row[5]) != None:\n",
    "        serieId= series.get(row[5])\n",
    "    else:\n",
    "        serieId='null'\n",
    "    write_cursor.execute(f\"INSERT INTO Product (Product_Id, Rating_Id, Series_id, Title, Realease_date) VALUES ({somma_prodid}, null, {serieId}, '{converted_title}', '{row[4]}')\")\n",
    "    write_cursor.execute(f\"INSERT INTO Episode (Episode_Id, Product_Id, Season, Remastered_release_date) VALUES ({i},{somma_prodid}, '{row[1].split('x')[0]}', '{row[4]}')\")   \n",
    "write_connection.commit()"
   ]
  },
  {
   "cell_type": "markdown",
   "id": "649daaad",
   "metadata": {},
   "source": [
    "**Inserimento dei valori provenienti da** ***raw_theme*** **nelle seguenti tabelle:**\n",
    "```\n",
    "- Label\n",
    "- Album\n",
    "- Product\n",
    "- Theme\n",
    "- Person\n",
    "- PersonTheme\n",
    "- Genre\n",
    "- ProductGenre\n",
    "```"
   ]
  },
  {
   "cell_type": "code",
   "execution_count": 14,
   "id": "1aebd9e4",
   "metadata": {},
   "outputs": [],
   "source": [
    "read_cursor.execute(\"select * from raw_themes\")\n",
    "\n",
    "for i, row in enumerate(read_cursor):\n",
    "    label_name = row[22]\n",
    "    write_cursor.execute(f\"SELECT Label_ID FROM Label WHERE Name = '{label_name}' \")\n",
    "    label_id = write_cursor.fetchall()\n",
    "    if len(label_id) == 0:\n",
    "        write_cursor.execute(\"SELECT MAX(Label_ID) FROM Label\")\n",
    "        max_label_id=write_cursor.fetchall()[0][0]\n",
    "        if max_label_id is None:\n",
    "            max_label_id = -1\n",
    "        write_cursor.execute(f\"INSERT INTO Label(Label_ID,Name) VALUES ({max_label_id+1}, '{label_name}')\")\n",
    "        write_connection.commit()\n",
    "        write_cursor.execute(f\"SELECT Label_ID FROM Label WHERE Name = '{label_name}' \")\n",
    "        label_id = write_cursor.fetchall()[0][0]\n",
    "    else:\n",
    "        label_id = label_id[0][0]\n",
    "        \n",
    "    album_name = row[6]\n",
    "    album_date = row[7]\n",
    "    write_cursor.execute(f\"SELECT Album_ID FROM Album WHERE Title = '{album_name}' \")\n",
    "    album_id = write_cursor.fetchall()\n",
    "    if len(album_id) == 0:\n",
    "        write_cursor.execute(\"SELECT MAX(Album_ID) FROM Album\")\n",
    "        max_album_id=write_cursor.fetchall()[0][0]\n",
    "        if max_album_id is None:\n",
    "            max_album_id = -1\n",
    "        write_cursor.execute(f\"INSERT INTO Album(Album_ID,Title,Release_date, Label_ID) VALUES ({max_album_id+1},'{album_name[0:49]}','{album_date}', {label_id})\")\n",
    "        write_connection.commit()\n",
    "        write_cursor.execute(f\"SELECT Album_ID FROM Album WHERE Title = '{album_name[0:49]}' \")\n",
    "        album_id = write_cursor.fetchall()[0][0]\n",
    "    else:\n",
    "        album_id = album_id[0][0]\n",
    "    theme_name = row[1].replace(\"'\", \"\").replace(\"(\",\"\").replace(\")\",\"\")[0:49]\n",
    "    write_cursor.execute(\"SELECT MAX(Product_ID) FROM Product\")\n",
    "    max_product_id=write_cursor.fetchall()[0][0]\n",
    "    if max_product_id is None:\n",
    "        max_product_id = -1\n",
    "    write_cursor.execute(f\"INSERT INTO Product(Product_ID, Title) VALUES ({max_product_id+1},'{theme_name}')\")\n",
    "    write_connection.commit()\n",
    "    write_cursor.execute(f\"INSERT INTO Theme(Theme_ID, Product_ID, Dance,Album_ID) VALUES({i},{max_product_id+1},'{row[9]}', {album_id})\")\n",
    "    write_connection.commit()\n",
    "    \n",
    "    persons = row[2].replace(\"&\",\",\").split(\",\")\n",
    "    for person in persons:\n",
    "        name_components = person.replace(\"'\",\"\").split(\" \")\n",
    "        first_name = name_components[0]\n",
    "        last_name = name_components[-1]\n",
    "        middle_name = name_components[1:-1]\n",
    "        middle_name = \" \".join(middle_name)[0:49]\n",
    "        write_cursor.execute(f\"SELECT Person_ID FROM Person WHERE First_name = '{first_name}' AND Middle_name = '{middle_name}' AND Last_name = '{last_name}'\")\n",
    "        person_id = write_cursor.fetchall()\n",
    "        if len(person_id) == 0:\n",
    "            write_cursor.execute(\"SELECT MAX(Person_id) FROM Person\")\n",
    "            max_person_id=write_cursor.fetchall()[0][0]\n",
    "            if max_person_id is None:\n",
    "                max_person_id = -1\n",
    "            write_cursor.execute(f\"INSERT INTO Person (Person_id, First_name, Middle_name, Last_name) VALUES ({max_person_id+1}, '{first_name}', '{middle_name}', '{last_name}')\")\n",
    "            write_connection.commit()\n",
    "            write_cursor.execute(f\"SELECT Person_ID FROM Person WHERE First_name = '{first_name}' AND Middle_name = '{middle_name}' AND Last_name = '{last_name}'\")\n",
    "            person_id = write_cursor.fetchall()[0][0]\n",
    "        else:\n",
    "            person_id = person_id[0][0]\n",
    "        write_cursor.execute(\"SELECT MAX(PersonTheme_ID) FROM PersonTheme\")\n",
    "        max_persontheme_id=write_cursor.fetchall()[0][0]\n",
    "        if max_persontheme_id is None:\n",
    "            max_persontheme_id = -1\n",
    "        write_cursor.execute(f\"INSERT INTO PersonTheme(PersonTheme_ID, Theme_ID, Person_ID) VALUES ({max_persontheme_id+1}, {i},{person_id})\")\n",
    "        write_connection.commit()\n",
    "    \n",
    "    genres = row[4].replace(\"&\",\",\").split(\",\")\n",
    "    for genre in genres:\n",
    "        write_cursor.execute(f\"SELECT Genre_ID FROM Genre WHERE Name = '{genre}' \")\n",
    "        genre_id = write_cursor.fetchall()\n",
    "        if len(genre_id) == 0:\n",
    "            write_cursor.execute(\"SELECT MAX(Genre_ID) FROM Genre\")\n",
    "            max_genre_id=write_cursor.fetchall()[0][0]\n",
    "            if max_genre_id is None:\n",
    "                max_genre_id = -1\n",
    "            write_cursor.execute(f\"INSERT INTO Genre (Genre_ID, Name) VALUES ({max_genre_id+1}, '{genre[0:49]}')\")\n",
    "            write_connection.commit()\n",
    "            write_cursor.execute(f\"SELECT Genre_ID FROM Genre WHERE Name = '{genre[0:49]}' \")\n",
    "            genre_id = write_cursor.fetchall()[0][0]\n",
    "        else:\n",
    "            genre_id = genre_id[0][0]\n",
    "        write_cursor.execute(\"SELECT MAX(ProductGenre_ID) FROM ProductGenre\")\n",
    "        max_productgenre_id=write_cursor.fetchall()[0][0]\n",
    "        if max_productgenre_id is None:\n",
    "            max_productgenre_id = -1\n",
    "        write_cursor.execute(f\"INSERT INTO ProductGenre(ProductGenre_ID , Genre_ID, Product_ID) VALUES({max_productgenre_id+1}, {genre_id}, {i})\")\n",
    "        write_connection.commit()"
   ]
  },
  {
   "cell_type": "markdown",
   "id": "3b7c1e8c",
   "metadata": {},
   "source": [
    "**Inserimento nella tabella** ***Series*** **dei titoli contenuti nella colonna** ***primaryTitle*** **della tabella** ***raw_title_basics*** "
   ]
  },
  {
   "cell_type": "code",
   "execution_count": 15,
   "id": "44d5bbd7",
   "metadata": {},
   "outputs": [],
   "source": [
    "write_cursor.execute(\"SELECT MAX(Series_ID) FROM Series\")\n",
    "max_series_id = write_cursor.fetchall()[0][0]\n",
    "write_connection.commit()\n",
    "read_cursor.execute(\"select distinct primaryTitle from raw_title_basics\")\n",
    "for i, row in enumerate(read_cursor):\n",
    "    titolo=row[0].replace(\"'\",\" \")\n",
    "    write_cursor.execute(f\"INSERT INTO Series (Series_Id, Title) VALUES ({max_series_id+i+1},'{titolo[0:49]}')\")\n",
    "write_connection.commit()"
   ]
  },
  {
   "cell_type": "markdown",
   "id": "a5e1b527",
   "metadata": {},
   "source": [
    "**Inserimento nella tabella** ***Person*** **delle colonne contenute nella tabella raw** ***name.basics_2*** "
   ]
  },
  {
   "cell_type": "code",
   "execution_count": 16,
   "id": "8712e878",
   "metadata": {},
   "outputs": [],
   "source": [
    "write_cursor.execute(\"SELECT MAX(Person_ID) FROM Person\")\n",
    "max_person_id = write_cursor.fetchall()[0][0]\n",
    "\n",
    "read_cursor.execute(\"SELECT * FROM [name.basics_2]\")\n",
    "\n",
    "for i, row in enumerate(read_cursor):\n",
    "    name_components = row[1].replace(\"'\",\"\").split(\" \")\n",
    "    first_name = name_components[0]\n",
    "    last_name = name_components[-1]\n",
    "    middle_name = name_components[1:-1]\n",
    "    birth_year = row[2]\n",
    "    death_year = row[3]\n",
    "    \n",
    "    ident_nuovo_persona = max_person_id+i+1\n",
    "    \n",
    "    if not birth_year.isnumeric():\n",
    "        birth_year = \"NULL\"\n",
    "    else:\n",
    "        birth_year = f\"'01/01/{birth_year}'\"\n",
    "        \n",
    "    if not death_year.isnumeric():\n",
    "        death_year = \"NULL\"\n",
    "    else:\n",
    "        death_year = f\"'01/01/{death_year}'\"\n",
    "\n",
    "    if len(middle_name)==0:\n",
    "        middle_name = \"NULL\"\n",
    "    else:\n",
    "        middle_name = \"'\"+\" \".join(middle_name)+\"'\"\n",
    "        \n",
    "    middle_name = middle_name.replace(\"'\", \"\").replace(\"(\",\"\").replace(\")\",\"\").replace('\"',\"\")\n",
    "    first_name = first_name.replace(\"'\", \"\").replace(\"(\",\"\").replace(\")\",\"\").replace('\"',\"\")\n",
    "    last_name = last_name.replace(\"'\", \"\").replace(\"(\",\"\").replace(\")\",\"\").replace('\"',\"\")\n",
    "    birth_year = birth_year.replace(\"'\", \"\").replace(\"(\",\"\").replace(\")\",\"\").replace('\"',\"\")\n",
    "    death_year = death_year.replace(\"'\", \"\").replace(\"(\",\"\").replace(\")\",\"\").replace('\"',\"\")\n",
    "    \n",
    "    birth_year = birth_year if birth_year == \"NULL\" else \"'\"+birth_year+\"'\"\n",
    "    death_year = death_year if death_year == \"NULL\" else \"'\"+death_year+\"'\"\n",
    "    write_cursor.execute(f\"INSERT INTO Person (Person_id, First_name, Middle_name, Last_name, Birth_year, Birth_date) VALUES ({ident_nuovo_persona}, '{first_name[0:49]}', '{middle_name[0:49]}', '{last_name[0:49]}', {birth_year[0:49]}, {death_year[0:49]})\")\n",
    "write_connection.commit()"
   ]
  },
  {
   "cell_type": "markdown",
   "id": "12aef423",
   "metadata": {},
   "source": [
    "**Aggiorno la tabella** ***Rating*** **per aggiungere anche il rating associato agli episodi delle serie**"
   ]
  },
  {
   "cell_type": "code",
   "execution_count": 17,
   "id": "2ab2ae92",
   "metadata": {},
   "outputs": [],
   "source": [
    "read_cursor.execute(\"\"\"SELECT primaryTitle, ROUND(SUM(CAST (averageRating AS float)*CAST(numVotes AS float)) / SUM(CAST(numVotes AS float)),1) AS averageRating\n",
    "FROM [title.ratings] JOIN [title.basics] ON [title.ratings].tconst = [title.basics].tconst \n",
    "WHERE [title.basics].primaryTitle IN (SELECT Title FROM raw_series)\n",
    "GROUP BY primaryTitle\"\"\")\n",
    "write_cursor.execute(\"SELECT MAX(Rating_ID) FROM Rating\")\n",
    "max_rating_id = write_cursor.fetchall()[0][0]\n",
    "for i, row in enumerate(read_cursor):\n",
    "    series_name = row[0].replace(\"'\", \"\")\n",
    "    write_cursor.execute(f\"SELECT Product_ID FROM Product WHERE Title = '{series_name}'\")\n",
    "    product_id = write_cursor.fetchall()\n",
    "    if len(product_id)>0:\n",
    "        product_id = product_id[0][0]\n",
    "        write_cursor.execute(f\"INSERT INTO Rating(Rating_ID, Value, Type) VALUES({max_rating_id+i+1},{row[1]},'0-10')\")\n",
    "        write_connection.commit()\n",
    "        write_cursor.execute(f\"UPDATE Product SET Rating_ID = {max_rating_id+i+1} WHERE Product_ID = {product_id}\")\n",
    "        write_connection.commit()\n",
    "    "
   ]
  },
  {
   "cell_type": "markdown",
   "id": "e488fb1a",
   "metadata": {},
   "source": [
    "**Chiusura ed eliminazione dei cursori e delle connessioni usati per connettersi al database SQLServer**"
   ]
  },
  {
   "cell_type": "code",
   "execution_count": 18,
   "id": "4b41765c",
   "metadata": {},
   "outputs": [],
   "source": [
    "read_cursor.close()\n",
    "del read_cursor\n",
    "read_connection.close()\n",
    "del read_connection\n",
    "\n",
    "write_cursor.close()\n",
    "del write_cursor\n",
    "write_connection.close()\n",
    "del write_connection"
   ]
  },
  {
   "cell_type": "code",
   "execution_count": null,
   "id": "dcf92fde",
   "metadata": {},
   "outputs": [],
   "source": []
  }
 ],
 "metadata": {
  "kernelspec": {
   "display_name": "Python 3 (ipykernel)",
   "language": "python",
   "name": "python3"
  },
  "language_info": {
   "codemirror_mode": {
    "name": "ipython",
    "version": 3
   },
   "file_extension": ".py",
   "mimetype": "text/x-python",
   "name": "python",
   "nbconvert_exporter": "python",
   "pygments_lexer": "ipython3",
   "version": "3.10.8"
  }
 },
 "nbformat": 4,
 "nbformat_minor": 5
}
